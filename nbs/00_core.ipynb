{
 "cells": [
  {
   "cell_type": "markdown",
   "metadata": {},
   "source": [
    "# core\n",
    "\n",
    "> Fill in a module description here"
   ]
  },
  {
   "cell_type": "code",
   "execution_count": null,
   "metadata": {},
   "outputs": [],
   "source": [
    "#| default_exp core"
   ]
  },
  {
   "cell_type": "code",
   "execution_count": null,
   "metadata": {},
   "outputs": [],
   "source": [
    "#| hide\n",
    "from nbdev.showdoc import *"
   ]
  },
  {
   "cell_type": "code",
   "execution_count": null,
   "metadata": {},
   "outputs": [],
   "source": [
    "#| export\n",
    "def foo(): pass"
   ]
  },
  {
   "cell_type": "code",
   "execution_count": null,
   "metadata": {},
   "outputs": [],
   "source": [
    "#| hide\n",
    "import nbdev; nbdev.nbdev_export()"
   ]
  },
  {
   "cell_type": "code",
   "execution_count": null,
   "metadata": {},
   "outputs": [],
   "source": [
    "#| export\n",
    "import ipywidgets as widgets\n",
    "\n",
    "question = widgets.HTML(value=\"Quelle est la capitale de la France?\")\n",
    "option1 = widgets.RadioButtons(options=[\"Paris\", \"Londres\", \"Berlin\"])\n",
    "submit_button = widgets.Button(description=\"Soumettre\")\n",
    "\n",
    "def check_answer(button):\n",
    "    if option1.value == \"Paris\":\n",
    "        print(\"Bonne réponse!\")\n",
    "    else:\n",
    "        print(\"Mauvaise réponse.\")\n",
    "\n",
    "submit_button.on_click(check_answer)\n",
    "\n",
    "display(question, option1, submit_button)"
   ]
  }
 ],
 "metadata": {
  "kernelspec": {
   "display_name": "python3",
   "language": "python",
   "name": "python3"
  }
 },
 "nbformat": 4,
 "nbformat_minor": 4
}
