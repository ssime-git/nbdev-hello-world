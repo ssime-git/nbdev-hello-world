{
 "cells": [
  {
   "cell_type": "markdown",
   "metadata": {},
   "source": [
    "# core\n",
    "\n",
    "> Fill in a module description here"
   ]
  },
  {
   "cell_type": "code",
   "execution_count": null,
   "metadata": {},
   "outputs": [],
   "source": [
    "#| default_exp core"
   ]
  },
  {
   "cell_type": "code",
   "execution_count": null,
   "metadata": {},
   "outputs": [],
   "source": [
    "#| hide\n",
    "from nbdev.showdoc import *"
   ]
  },
  {
   "cell_type": "code",
   "execution_count": null,
   "metadata": {},
   "outputs": [],
   "source": [
    "#| export\n",
    "def foo(): pass"
   ]
  },
  {
   "cell_type": "code",
   "execution_count": null,
   "metadata": {},
   "outputs": [],
   "source": [
    "#| hide\n",
    "import nbdev; nbdev.nbdev_export()"
   ]
  },
  {
   "cell_type": "code",
   "execution_count": null,
   "metadata": {},
   "outputs": [
    {
     "name": "stdout",
     "output_type": "stream",
     "text": [
      "Question 1: What is the capital of France?\n",
      "1. Paris\n",
      "2. London\n",
      "3. Berlin\n",
      "4. Rome\n",
      "\n",
      "Question 2: Which planet is known as the Red Planet?\n",
      "1. Venus\n",
      "2. Mars\n",
      "3. Jupiter\n",
      "4. Saturn\n",
      "\n",
      "Question 3: Who painted the Mona Lisa?\n",
      "1. Vincent van Gogh\n",
      "2. Leonardo da Vinci\n",
      "3. Pablo Picasso\n",
      "4. Claude Monet\n",
      "\n"
     ]
    }
   ],
   "source": [
    "#| export\n",
    "from IPython.display import Markdown, display\n",
    "\n",
    "# Define the questions and answers\n",
    "questions = [\n",
    "    {\n",
    "        \"question\": \"What is the capital of France?\",\n",
    "        \"options\": [\"Paris\", \"London\", \"Berlin\", \"Rome\"],\n",
    "        \"answer\": \"Paris\"\n",
    "    },\n",
    "    {\n",
    "        \"question\": \"Which planet is known as the Red Planet?\",\n",
    "        \"options\": [\"Venus\", \"Mars\", \"Jupiter\", \"Saturn\"],\n",
    "        \"answer\": \"Mars\"\n",
    "    },\n",
    "    {\n",
    "        \"question\": \"Who painted the Mona Lisa?\",\n",
    "        \"options\": [\"Vincent van Gogh\", \"Leonardo da Vinci\", \"Pablo Picasso\", \"Claude Monet\"],\n",
    "        \"answer\": \"Leonardo da Vinci\"\n",
    "    }\n",
    "]\n",
    "\n",
    "# Function to display the multiple-choice quiz\n",
    "def display_quiz(questions):\n",
    "    for i, question in enumerate(questions):\n",
    "        print(f\"Question {i+1}: {question['question']}\")\n",
    "        for j, option in enumerate(question['options']):\n",
    "            print(f\"{j+1}. {option}\")\n",
    "        print()\n",
    "\n",
    "# Call the function to display the quiz\n",
    "display_quiz(questions)"
   ]
  },
  {
   "cell_type": "code",
   "execution_count": null,
   "metadata": {},
   "outputs": [],
   "source": [
    "#| export\n",
    "def say_hello(to):\n",
    "    \"Say hello to somebody\"\n",
    "    return f'Hello {to}!'"
   ]
  },
  {
   "cell_type": "code",
   "execution_count": null,
   "metadata": {},
   "outputs": [],
   "source": []
  }
 ],
 "metadata": {
  "kernelspec": {
   "display_name": "python3",
   "language": "python",
   "name": "python3"
  }
 },
 "nbformat": 4,
 "nbformat_minor": 4
}
