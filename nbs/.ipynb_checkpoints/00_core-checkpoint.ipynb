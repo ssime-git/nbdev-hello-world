{
 "cells": [
  {
   "cell_type": "markdown",
   "metadata": {},
   "source": [
    "# core\n",
    "\n",
    "> Fill in a module description here"
   ]
  },
  {
   "cell_type": "code",
   "execution_count": null,
   "metadata": {},
   "outputs": [],
   "source": [
    "#| default_exp core"
   ]
  },
  {
   "cell_type": "code",
   "execution_count": 1,
   "metadata": {},
   "outputs": [],
   "source": [
    "#| hide\n",
    "from nbdev.showdoc import *"
   ]
  },
  {
   "cell_type": "code",
   "execution_count": 2,
   "metadata": {},
   "outputs": [],
   "source": [
    "#| export\n",
    "def foo(): pass"
   ]
  },
  {
   "cell_type": "code",
   "execution_count": 3,
   "metadata": {},
   "outputs": [],
   "source": [
    "#| hide\n",
    "import nbdev; nbdev.nbdev_export()"
   ]
  },
  {
   "cell_type": "code",
   "execution_count": 7,
   "metadata": {},
   "outputs": [
    {
     "data": {
      "application/vnd.jupyter.widget-view+json": {
       "model_id": "a0c155381eb147fc858306777629d305",
       "version_major": 2,
       "version_minor": 0
      },
      "text/plain": [
       "HTML(value='Quelle est la capitale de la France?')"
      ]
     },
     "metadata": {},
     "output_type": "display_data"
    },
    {
     "data": {
      "application/vnd.jupyter.widget-view+json": {
       "model_id": "62c95c06fc3a4b8eb4c7c1f83bbc1225",
       "version_major": 2,
       "version_minor": 0
      },
      "text/plain": [
       "RadioButtons(options=('Paris', 'Londres', 'Berlin'), value='Paris')"
      ]
     },
     "metadata": {},
     "output_type": "display_data"
    },
    {
     "data": {
      "application/vnd.jupyter.widget-view+json": {
       "model_id": "df790768de744ab4b1320565e5861c7e",
       "version_major": 2,
       "version_minor": 0
      },
      "text/plain": [
       "Button(description='Soumettre', style=ButtonStyle())"
      ]
     },
     "metadata": {},
     "output_type": "display_data"
    }
   ],
   "source": [
    "#| export\n",
    "import ipywidgets as widgets\n",
    "\n",
    "question = widgets.HTML(value=\"Quelle est la capitale de la France?\")\n",
    "option1 = widgets.RadioButtons(options=[\"Paris\", \"Londres\", \"Berlin\"])\n",
    "submit_button = widgets.Button(description=\"Soumettre\")\n",
    "\n",
    "def check_answer(button):\n",
    "    if option1.value == \"Paris\":\n",
    "        print(\"Bonne réponse!\")\n",
    "    else:\n",
    "        print(\"Mauvaise réponse.\")\n",
    "\n",
    "submit_button.on_click(check_answer)\n",
    "\n",
    "display(question, option1, submit_button)"
   ]
  }
 ],
 "metadata": {
  "kernelspec": {
   "display_name": "python3",
   "language": "python",
   "name": "python3"
  },
  "language_info": {
   "codemirror_mode": {
    "name": "ipython",
    "version": 3
   },
   "file_extension": ".py",
   "mimetype": "text/x-python",
   "name": "python",
   "nbconvert_exporter": "python",
   "pygments_lexer": "ipython3",
   "version": "3.10.8"
  }
 },
 "nbformat": 4,
 "nbformat_minor": 4
}
